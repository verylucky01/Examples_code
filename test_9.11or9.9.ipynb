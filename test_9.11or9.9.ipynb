{
 "cells": [
  {
   "cell_type": "code",
   "execution_count": 1,
   "id": "996740e1-af6b-41b3-9472-08d5396d7d2d",
   "metadata": {
    "tags": []
   },
   "outputs": [],
   "source": [
    "import openai\n",
    "from openai import OpenAI\n",
    "from datetime import datetime"
   ]
  },
  {
   "cell_type": "code",
   "execution_count": 2,
   "id": "63e794c8-726c-42ab-8ee3-d6d7cf2fbfcc",
   "metadata": {
    "tags": []
   },
   "outputs": [
    {
     "name": "stdout",
     "output_type": "stream",
     "text": [
      "当前时间：2024-12-06 16:56:27\n"
     ]
    }
   ],
   "source": [
    "# 获取当前时间：\n",
    "current_time = datetime.now()\n",
    "# 格式化时间字符串：\n",
    "formatted_time = current_time.strftime(\"%Y-%m-%d %H:%M:%S\")\n",
    "# 打印当前时间：\n",
    "print(f\"当前时间：{formatted_time}\")"
   ]
  },
  {
   "cell_type": "code",
   "execution_count": 3,
   "id": "d31c08a0-9e9c-4805-9b5c-ef8d8b1b2ada",
   "metadata": {
    "tags": []
   },
   "outputs": [],
   "source": [
    "def get_completions(system_prompt, user_prompt, max_tokens_=32):\n",
    "    client = OpenAI(\n",
    "        api_key=\"sk-your_api_key************************************************\",\n",
    "        base_url=\"https://api.openai.com/v1\",\n",
    "        max_retries=3,\n",
    "        timeout=60,\n",
    "    )\n",
    "    chat_completion = client.chat.completions.create(\n",
    "        model=\"gpt-4o-mini-2024-07-18\",\n",
    "        messages=[\n",
    "            {\"role\": \"system\", \"content\": system_prompt},\n",
    "            {\"role\": \"user\", \"content\": user_prompt},\n",
    "        ],\n",
    "        n=1,\n",
    "        temperature=0,\n",
    "        seed=42,\n",
    "        max_tokens=max_tokens_,\n",
    "        logprobs=True,\n",
    "        top_logprobs=3,\n",
    "        presence_penalty=0,\n",
    "        frequency_penalty=0,\n",
    "    )\n",
    "    response = chat_completion.choices[0].message.content.strip()\n",
    "\n",
    "    return response"
   ]
  },
  {
   "cell_type": "code",
   "execution_count": 4,
   "id": "4953d536-1870-4d5c-a04b-d2c2d60542f1",
   "metadata": {
    "tags": []
   },
   "outputs": [
    {
     "name": "stdout",
     "output_type": "stream",
     "text": [
      "OpenAI Python API Library Version: 1.56.1\n"
     ]
    }
   ],
   "source": [
    "# 使用了 Python 的 f-string（格式化字符串）来打印 openai 库的版本号：\n",
    "print(f\"OpenAI Python API Library Version: {openai.__version__}\")"
   ]
  },
  {
   "cell_type": "code",
   "execution_count": 5,
   "id": "b4e6fa6c-0929-4695-8ae6-761953cd0096",
   "metadata": {
    "tags": []
   },
   "outputs": [
    {
     "name": "stdout",
     "output_type": "stream",
     "text": [
      "9.11 is greater than 9.9.\n"
     ]
    }
   ],
   "source": [
    "# 当系统提示没有特定要求时，可以使用以下这个系统提示。\n",
    "system_ = \"You are an expert at world knowledge.\"\n",
    "\n",
    "prompt1 = \"9.11 or 9.9, which is greater?\"\n",
    "result1 = get_completions(system_, prompt1)\n",
    "print(result1)"
   ]
  },
  {
   "cell_type": "markdown",
   "id": "c895fe86-7987-44d8-9ba9-07fd8950b1ee",
   "metadata": {
    "tags": []
   },
   "source": [
    "**System Prompt** 是一个预设的指令，用来指导模型如何回应用户的提问或任务。"
   ]
  },
  {
   "cell_type": "code",
   "execution_count": 6,
   "id": "1cc8703d-b53b-4c8e-8a43-4dde809dbef1",
   "metadata": {
    "tags": []
   },
   "outputs": [
    {
     "name": "stdout",
     "output_type": "stream",
     "text": [
      "9.9 is greater than 9.11. In a numerical comparison, 9.9 is equivalent to 9.90, which is larger than 9.11.\n"
     ]
    }
   ],
   "source": [
    "# 对话的情景化和好的提示至关重要：\n",
    "system_ = \"You are an expert in mathematical analysis and highly skilled in numerical comparisons.\"\n",
    "\n",
    "prompt2 = \"9.11 or 9.9, which is greater?\"\n",
    "result2 = get_completions(system_, prompt2, max_tokens_=64)\n",
    "print(result2)"
   ]
  },
  {
   "cell_type": "markdown",
   "id": "655bb2c3-57a5-4078-b0e6-25662f5bba07",
   "metadata": {},
   "source": [
    "**Zero-shot CoT**（Chain-of-Thought）是指模型在没有接受任何额外训练或示例的情况下，能够通过逐步推理来解决新问题的过程。这种能力模仿了人类解决问题时的思维方式，即在面对未曾接触过的问题时，能够基于已有知识进行逻辑分析，从而找到解决方案。"
   ]
  },
  {
   "cell_type": "code",
   "execution_count": 7,
   "id": "e428316a-3510-4f92-a3a5-26a73a5bc6df",
   "metadata": {
    "tags": []
   },
   "outputs": [
    {
     "name": "stdout",
     "output_type": "stream",
     "text": [
      "To determine which is greater between 9.11 and 9.9, we can compare the two numbers step by step.\n",
      "\n",
      "1. **Compare the whole number part**: Both numbers have a whole number part of 9, so we move to the decimal part.\n",
      "\n",
      "2. **Compare the first decimal place**: \n",
      "   - For 9.11, the first decimal place is 1.\n",
      "   - For 9.9, the first decimal place is 9.\n",
      "   - Since 1 is less than 9, 9.9 is greater than 9.11.\n",
      "\n",
      "3. **Conclusion**: Therefore, 9.9 is greater than 9.11.\n"
     ]
    }
   ],
   "source": [
    "system_ = \"You are an expert at world knowledge.\"\n",
    "\n",
    "# Zero-shot CoT (Chain-of-Thought)\n",
    "prompt3 = \"9.11 or 9.9, which is greater?\\nLet's think step by step.\"\n",
    "result3 = get_completions(system_, prompt3, max_tokens_=256)\n",
    "print(result3)"
   ]
  }
 ],
 "metadata": {
  "kernelspec": {
   "display_name": "Python 3 (ipykernel)",
   "language": "python",
   "name": "python3"
  },
  "language_info": {
   "codemirror_mode": {
    "name": "ipython",
    "version": 3
   },
   "file_extension": ".py",
   "mimetype": "text/x-python",
   "name": "python",
   "nbconvert_exporter": "python",
   "pygments_lexer": "ipython3",
   "version": "3.8.10"
  }
 },
 "nbformat": 4,
 "nbformat_minor": 5
}
